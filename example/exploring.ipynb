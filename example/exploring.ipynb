{
 "cells": [
  {
   "cell_type": "code",
   "execution_count": null,
   "id": "ba4a631f",
   "metadata": {
    "notebookRunGroups": {
     "groupValue": "1"
    },
    "vscode": {
     "languageId": "powershell"
    }
   },
   "outputs": [],
   "source": [
    "!pip install --upgrade pip\n",
    "!pip install transformers accelerate datasets pillow peft bitsandbytes torchvision torchaudio gradio"
   ]
  },
  {
   "cell_type": "code",
   "execution_count": 7,
   "id": "6eafdce6",
   "metadata": {
    "notebookRunGroups": {
     "groupValue": "1"
    },
    "vscode": {
     "languageId": "powershell"
    }
   },
   "outputs": [
    {
     "name": "stdout",
     "output_type": "stream",
     "text": [
      "Requirement already satisfied: kagglehub in c:\\users\\nirva\\onedrive\\projects\\multimodal\\multimodal-exploring\\.venv\\lib\\site-packages (0.3.13)\n",
      "Requirement already satisfied: kaggle in c:\\users\\nirva\\onedrive\\projects\\multimodal\\multimodal-exploring\\.venv\\lib\\site-packages (1.7.4.5)\n",
      "Requirement already satisfied: packaging in c:\\users\\nirva\\onedrive\\projects\\multimodal\\multimodal-exploring\\.venv\\lib\\site-packages (from kagglehub) (25.0)\n",
      "Requirement already satisfied: pyyaml in c:\\users\\nirva\\onedrive\\projects\\multimodal\\multimodal-exploring\\.venv\\lib\\site-packages (from kagglehub) (6.0.2)\n",
      "Requirement already satisfied: requests in c:\\users\\nirva\\onedrive\\projects\\multimodal\\multimodal-exploring\\.venv\\lib\\site-packages (from kagglehub) (2.32.5)\n",
      "Requirement already satisfied: tqdm in c:\\users\\nirva\\onedrive\\projects\\multimodal\\multimodal-exploring\\.venv\\lib\\site-packages (from kagglehub) (4.67.1)\n",
      "Requirement already satisfied: bleach in c:\\users\\nirva\\onedrive\\projects\\multimodal\\multimodal-exploring\\.venv\\lib\\site-packages (from kaggle) (6.2.0)\n",
      "Requirement already satisfied: certifi>=14.05.14 in c:\\users\\nirva\\onedrive\\projects\\multimodal\\multimodal-exploring\\.venv\\lib\\site-packages (from kaggle) (2025.8.3)\n",
      "Requirement already satisfied: charset-normalizer in c:\\users\\nirva\\onedrive\\projects\\multimodal\\multimodal-exploring\\.venv\\lib\\site-packages (from kaggle) (3.4.3)\n",
      "Requirement already satisfied: idna in c:\\users\\nirva\\onedrive\\projects\\multimodal\\multimodal-exploring\\.venv\\lib\\site-packages (from kaggle) (3.10)\n",
      "Requirement already satisfied: protobuf in c:\\users\\nirva\\onedrive\\projects\\multimodal\\multimodal-exploring\\.venv\\lib\\site-packages (from kaggle) (6.32.1)\n",
      "Requirement already satisfied: python-dateutil>=2.5.3 in c:\\users\\nirva\\onedrive\\projects\\multimodal\\multimodal-exploring\\.venv\\lib\\site-packages (from kaggle) (2.9.0.post0)\n",
      "Requirement already satisfied: python-slugify in c:\\users\\nirva\\onedrive\\projects\\multimodal\\multimodal-exploring\\.venv\\lib\\site-packages (from kaggle) (8.0.4)\n",
      "Requirement already satisfied: setuptools>=21.0.0 in c:\\users\\nirva\\onedrive\\projects\\multimodal\\multimodal-exploring\\.venv\\lib\\site-packages (from kaggle) (65.5.0)\n",
      "Requirement already satisfied: six>=1.10 in c:\\users\\nirva\\onedrive\\projects\\multimodal\\multimodal-exploring\\.venv\\lib\\site-packages (from kaggle) (1.17.0)\n",
      "Requirement already satisfied: text-unidecode in c:\\users\\nirva\\onedrive\\projects\\multimodal\\multimodal-exploring\\.venv\\lib\\site-packages (from kaggle) (1.3)\n",
      "Requirement already satisfied: urllib3>=1.15.1 in c:\\users\\nirva\\onedrive\\projects\\multimodal\\multimodal-exploring\\.venv\\lib\\site-packages (from kaggle) (2.5.0)\n",
      "Requirement already satisfied: webencodings in c:\\users\\nirva\\onedrive\\projects\\multimodal\\multimodal-exploring\\.venv\\lib\\site-packages (from kaggle) (0.5.1)\n",
      "Requirement already satisfied: colorama in c:\\users\\nirva\\onedrive\\projects\\multimodal\\multimodal-exploring\\.venv\\lib\\site-packages (from tqdm->kagglehub) (0.4.6)\n"
     ]
    }
   ],
   "source": [
    "!pip install kagglehub kaggle"
   ]
  },
  {
   "cell_type": "code",
   "execution_count": 8,
   "id": "66ec8b4e",
   "metadata": {
    "notebookRunGroups": {
     "groupValue": "1"
    }
   },
   "outputs": [
    {
     "name": "stdout",
     "output_type": "stream",
     "text": [
      "Dataset URL: https://www.kaggle.com/datasets/adityajn105/flickr8k\n",
      "Dataset downloaded and extracted to: None\n"
     ]
    }
   ],
   "source": [
    "import kaggle\n",
    "\n",
    "# Download dataset from Kaggle\n",
    "\n",
    "path = kaggle.api.dataset_download_files(\"adityajn105/flickr8k\", unzip=True, path=\"./data\")\n",
    "\n",
    "print(f\"Dataset downloaded and extracted to: {path}\")"
   ]
  },
  {
   "cell_type": "markdown",
   "id": "27ee6d11",
   "metadata": {},
   "source": [
    "Below is just imports and setting threads"
   ]
  },
  {
   "cell_type": "code",
   "execution_count": null,
   "id": "e63211d5",
   "metadata": {
    "notebookRunGroups": {
     "groupValue": "1"
    }
   },
   "outputs": [],
   "source": [
    "import os, json, random, time, math\n",
    "from pathlib import Path\n",
    "\n",
    "import torch\n",
    "\n",
    "intensity = 5  # Scale of 1-10 for CPU usage\n",
    "torch.set_num_threads(max(1, int(os.cpu_count() // (1 / (intensity / 10))))) # Sets the number of threads to the cpu_count divided by the reciprocal of the intensity(scaled 1 - 10) divided by 10\n",
    "\n",
    "from PIL import Image\n",
    "from datasets import load_dataset, Dataset\n",
    "\n",
    "from transformers import (\n",
    "\n",
    "    AutoTokenizer,\n",
    "    AutoProcessor,\n",
    "    BlipForConditionalGeneration,\n",
    "    TrainingArguments,\n",
    "    Trainer,\n",
    "    default_data_collator,\n",
    "\n",
    ")\n"
   ]
  },
  {
   "cell_type": "markdown",
   "id": "b7249990",
   "metadata": {},
   "source": [
    "Ok, so basically I am on CPU, so I'll put a snippet of code below that reduces the size of the dataset and processes it."
   ]
  },
  {
   "cell_type": "code",
   "execution_count": null,
   "id": "c7745338",
   "metadata": {},
   "outputs": [],
   "source": [
    "\n",
    "# Paths -> Data, Images, Captions.txt; Replace your paths here\n",
    "\n",
    "DATA_DIR = Path(\"data\")\n",
    "IMAGES_DIR = DATA_DIR / \"Images\"\n",
    "CAPTIONS_FILE = DATA_DIR / \"captions.txt\"\n",
    "\n",
    "# Make sure nothing is missing, everything exists, etc.\n",
    "\n",
    "assert IMAGES_DIR.exists(), f\"Images directory {IMAGES_DIR} does not exist. Run the cells above.\"\n",
    "assert CAPTIONS_FILE.exists(), f\"Captions file {CAPTIONS_FILE} does not exist. Run the cells above.\"\n",
    "\n",
    "# Function: \n",
    "\n",
    "def parse_captions(path: Path):\n",
    "\n",
    "    \"\"\"\n",
    "    \n",
    "    put ts explanation here\n",
    "    \n",
    "    \"\"\"\n",
    "\n"
   ]
  }
 ],
 "metadata": {
  "kernelspec": {
   "display_name": ".venv",
   "language": "python",
   "name": "python3"
  },
  "language_info": {
   "codemirror_mode": {
    "name": "ipython",
    "version": 3
   },
   "file_extension": ".py",
   "mimetype": "text/x-python",
   "name": "python",
   "nbconvert_exporter": "python",
   "pygments_lexer": "ipython3",
   "version": "3.11.9"
  }
 },
 "nbformat": 4,
 "nbformat_minor": 5
}
