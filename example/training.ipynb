{
 "cells": [
  {
   "cell_type": "markdown",
   "id": "a07bb1cf",
   "metadata": {},
   "source": [
    "## Setting up environment & importing needed libraries\n",
    "\n",
    "For this I only have a CPU, so this is going to take some time 😭."
   ]
  },
  {
   "cell_type": "code",
   "execution_count": null,
   "id": "6b65d287",
   "metadata": {
    "vscode": {
     "languageId": "powershell"
    }
   },
   "outputs": [],
   "source": [
    "#Uncomment to install dependencies; I did this to avoid re-installing every time\n",
    "#pip install transformers timm scikit-learn torch torchvision datasets pandas"
   ]
  },
  {
   "cell_type": "code",
   "execution_count": 7,
   "id": "b5f7bc12",
   "metadata": {},
   "outputs": [
    {
     "name": "stderr",
     "output_type": "stream",
     "text": [
      "c:\\Users\\nirva\\OneDrive\\Projects\\multimodal\\multimodal-exploring\\.venv\\Lib\\site-packages\\tqdm\\auto.py:21: TqdmWarning: IProgress not found. Please update jupyter and ipywidgets. See https://ipywidgets.readthedocs.io/en/stable/user_install.html\n",
      "  from .autonotebook import tqdm as notebook_tqdm\n"
     ]
    }
   ],
   "source": [
    "import json\n",
    "import os\n",
    "import torch\n",
    "import torch.nn as nn\n",
    "import torchvision.transforms as transforms\n",
    "from sklearn.metrics import classification_report, accuracy_score\n",
    "from transformers import AutoModel, AutoTokenizer, get_scheduler\n",
    "from torch.utils.data import Dataset, DataLoader, RandomSampler, SequentialSampler\n",
    "from torch.optim import AdamW\n",
    "from tqdm.notebook import tqdm, trange\n",
    "from time import perf_counter\n",
    "from PIL import Image\n",
    "import pandas as pd"
   ]
  },
  {
   "cell_type": "markdown",
   "id": "3092bdec",
   "metadata": {},
   "source": [
    "Common configurations to be used throughout the notebook"
   ]
  },
  {
   "cell_type": "code",
   "execution_count": 8,
   "id": "deb43904",
   "metadata": {},
   "outputs": [
    {
     "name": "stdout",
     "output_type": "stream",
     "text": [
      "Using device: cpu\n"
     ]
    }
   ],
   "source": [
    "# Check if GPU is available\n",
    "\n",
    "device = torch.device(\"cuda\" if torch.cuda.is_available() else \"cpu\")\n",
    "print(f\"Using device: {device}\")"
   ]
  },
  {
   "cell_type": "code",
   "execution_count": 9,
   "id": "a0562474",
   "metadata": {},
   "outputs": [],
   "source": [
    "import numpy as np\n",
    "import random\n",
    "\n",
    "# Function to set random seed for reproducibility\n",
    "\n",
    "def set_seed(seed_val):\n",
    "\n",
    "    random.seed(seed_val)\n",
    "\n",
    "    np.random.seed(seed_val)\n",
    "\n",
    "    torch.manual_seed(seed_val)\n",
    "\n",
    "    torch.cuda.manual_seed_all(seed_val)"
   ]
  },
  {
   "cell_type": "code",
   "execution_count": 14,
   "id": "f8ac4949",
   "metadata": {},
   "outputs": [],
   "source": [
    "from PIL import Image\n",
    "import requests\n",
    "from io import BytesIO\n",
    "\n",
    "def display_image_from_url(image_url):\n",
    "    \n",
    "    \"\"\"\n",
    "\n",
    "    Fetches an image from a URL and displays it.\n",
    "\n",
    "    Args:\n",
    "        image_url (str): The URL of the image.\n",
    "\n",
    "    \"\"\"\n",
    "    try:\n",
    "\n",
    "        response = requests.get(image_url)\n",
    "        response.raise_for_status()  \n",
    "        img = Image.open(BytesIO(response.content))\n",
    "        img.show()\n",
    "\n",
    "    except requests.exceptions.RequestException as e:\n",
    "\n",
    "        print(f\"Error fetching image from URL: {e}\")\n",
    "\n",
    "    except IOError as e:\n",
    "\n",
    "        print(f\"Error opening or displaying image: {e}\")"
   ]
  },
  {
   "cell_type": "code",
   "execution_count": 16,
   "id": "232b9859",
   "metadata": {},
   "outputs": [
    {
     "name": "stdout",
     "output_type": "stream",
     "text": [
      "Random seed set to: 67\n"
     ]
    }
   ],
   "source": [
    "seed_val = 67 # 6 7 vs. 41\n",
    "\n",
    "set_seed(seed_val)\n",
    "\n",
    "if seed_val == 67:\n",
    "\n",
    "    display_image_from_url(\"https://encrypted-tbn0.gstatic.com/images?q=tbn:ANd9GcRD1tLi6s_qGP24DiHYjBiWGFkWcl-cMfeKcA&s\")\n",
    "\n",
    "print(f\"Random seed set to: {seed_val}\")"
   ]
  }
 ],
 "metadata": {
  "kernelspec": {
   "display_name": ".venv",
   "language": "python",
   "name": "python3"
  },
  "language_info": {
   "codemirror_mode": {
    "name": "ipython",
    "version": 3
   },
   "file_extension": ".py",
   "mimetype": "text/x-python",
   "name": "python",
   "nbconvert_exporter": "python",
   "pygments_lexer": "ipython3",
   "version": "3.11.9"
  }
 },
 "nbformat": 4,
 "nbformat_minor": 5
}
