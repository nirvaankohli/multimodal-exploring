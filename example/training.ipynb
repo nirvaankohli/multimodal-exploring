{
 "cells": [
  {
   "cell_type": "markdown",
   "id": "a07bb1cf",
   "metadata": {},
   "source": [
    "## Setting up environment & importing needed libraries\n",
    "\n",
    "For this I only have a CPU, so this is going to take some time 😭."
   ]
  },
  {
   "cell_type": "code",
   "execution_count": null,
   "id": "6b65d287",
   "metadata": {
    "vscode": {
     "languageId": "powershell"
    }
   },
   "outputs": [
    {
     "name": "stdout",
     "output_type": "stream",
     "text": [
      "Requirement already satisfied: asttokens in c:\\users\\nirva\\onedrive\\projects\\multimodal\\multimodal-exploring\\.venv\\lib\\site-packages (3.0.0)\n",
      "Note: you may need to restart the kernel to use updated packages.\n"
     ]
    }
   ],
   "source": [
    "pip install "
   ]
  }
 ],
 "metadata": {
  "kernelspec": {
   "display_name": ".venv",
   "language": "python",
   "name": "python3"
  },
  "language_info": {
   "codemirror_mode": {
    "name": "ipython",
    "version": 3
   },
   "file_extension": ".py",
   "mimetype": "text/x-python",
   "name": "python",
   "nbconvert_exporter": "python",
   "pygments_lexer": "ipython3",
   "version": "3.11.9"
  }
 },
 "nbformat": 4,
 "nbformat_minor": 5
}
