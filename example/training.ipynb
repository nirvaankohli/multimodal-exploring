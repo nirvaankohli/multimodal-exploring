{
 "cells": [
  {
   "cell_type": "markdown",
   "id": "a07bb1cf",
   "metadata": {},
   "source": [
    "## Setting up environment & importing needed libraries\n",
    "\n",
    "For this I only have a CPU, so this is going to take some time 😭."
   ]
  },
  {
   "cell_type": "code",
   "execution_count": 44,
   "id": "6b65d287",
   "metadata": {
    "vscode": {
     "languageId": "powershell"
    }
   },
   "outputs": [
    {
     "name": "stdout",
     "output_type": "stream",
     "text": [
      "Requirement already satisfied: transformers in c:\\users\\nirva\\onedrive\\projects\\multimodal\\multimodal-exploring\\.venv\\lib\\site-packages (4.56.2)\n",
      "Requirement already satisfied: timm in c:\\users\\nirva\\onedrive\\projects\\multimodal\\multimodal-exploring\\.venv\\lib\\site-packages (1.0.20)\n",
      "Requirement already satisfied: scikit-learn in c:\\users\\nirva\\onedrive\\projects\\multimodal\\multimodal-exploring\\.venv\\lib\\site-packages (1.7.2)\n",
      "Requirement already satisfied: torch in c:\\users\\nirva\\onedrive\\projects\\multimodal\\multimodal-exploring\\.venv\\lib\\site-packages (2.8.0)\n",
      "Requirement already satisfied: torchvision in c:\\users\\nirva\\onedrive\\projects\\multimodal\\multimodal-exploring\\.venv\\lib\\site-packages (0.23.0)\n",
      "Requirement already satisfied: datasets in c:\\users\\nirva\\onedrive\\projects\\multimodal\\multimodal-exploring\\.venv\\lib\\site-packages (4.1.1)\n",
      "Requirement already satisfied: pandas in c:\\users\\nirva\\onedrive\\projects\\multimodal\\multimodal-exploring\\.venv\\lib\\site-packages (2.3.2)\n",
      "Collecting gdown\n",
      "  Downloading gdown-5.2.0-py3-none-any.whl.metadata (5.8 kB)\n",
      "Collecting zipfile36\n",
      "  Downloading zipfile36-0.1.3-py3-none-any.whl.metadata (736 bytes)\n",
      "Requirement already satisfied: filelock in c:\\users\\nirva\\onedrive\\projects\\multimodal\\multimodal-exploring\\.venv\\lib\\site-packages (from transformers) (3.19.1)\n",
      "Requirement already satisfied: huggingface-hub<1.0,>=0.34.0 in c:\\users\\nirva\\onedrive\\projects\\multimodal\\multimodal-exploring\\.venv\\lib\\site-packages (from transformers) (0.35.1)\n",
      "Requirement already satisfied: numpy>=1.17 in c:\\users\\nirva\\onedrive\\projects\\multimodal\\multimodal-exploring\\.venv\\lib\\site-packages (from transformers) (2.3.3)\n",
      "Requirement already satisfied: packaging>=20.0 in c:\\users\\nirva\\onedrive\\projects\\multimodal\\multimodal-exploring\\.venv\\lib\\site-packages (from transformers) (25.0)\n",
      "Requirement already satisfied: pyyaml>=5.1 in c:\\users\\nirva\\onedrive\\projects\\multimodal\\multimodal-exploring\\.venv\\lib\\site-packages (from transformers) (6.0.2)\n",
      "Requirement already satisfied: regex!=2019.12.17 in c:\\users\\nirva\\onedrive\\projects\\multimodal\\multimodal-exploring\\.venv\\lib\\site-packages (from transformers) (2025.9.18)\n",
      "Requirement already satisfied: requests in c:\\users\\nirva\\onedrive\\projects\\multimodal\\multimodal-exploring\\.venv\\lib\\site-packages (from transformers) (2.32.5)\n",
      "Requirement already satisfied: tokenizers<=0.23.0,>=0.22.0 in c:\\users\\nirva\\onedrive\\projects\\multimodal\\multimodal-exploring\\.venv\\lib\\site-packages (from transformers) (0.22.1)\n",
      "Requirement already satisfied: safetensors>=0.4.3 in c:\\users\\nirva\\onedrive\\projects\\multimodal\\multimodal-exploring\\.venv\\lib\\site-packages (from transformers) (0.6.2)\n",
      "Requirement already satisfied: tqdm>=4.27 in c:\\users\\nirva\\onedrive\\projects\\multimodal\\multimodal-exploring\\.venv\\lib\\site-packages (from transformers) (4.67.1)\n",
      "Requirement already satisfied: fsspec>=2023.5.0 in c:\\users\\nirva\\onedrive\\projects\\multimodal\\multimodal-exploring\\.venv\\lib\\site-packages (from huggingface-hub<1.0,>=0.34.0->transformers) (2025.9.0)\n",
      "Requirement already satisfied: typing-extensions>=3.7.4.3 in c:\\users\\nirva\\onedrive\\projects\\multimodal\\multimodal-exploring\\.venv\\lib\\site-packages (from huggingface-hub<1.0,>=0.34.0->transformers) (4.15.0)\n",
      "Requirement already satisfied: scipy>=1.8.0 in c:\\users\\nirva\\onedrive\\projects\\multimodal\\multimodal-exploring\\.venv\\lib\\site-packages (from scikit-learn) (1.16.2)\n",
      "Requirement already satisfied: joblib>=1.2.0 in c:\\users\\nirva\\onedrive\\projects\\multimodal\\multimodal-exploring\\.venv\\lib\\site-packages (from scikit-learn) (1.5.2)\n",
      "Requirement already satisfied: threadpoolctl>=3.1.0 in c:\\users\\nirva\\onedrive\\projects\\multimodal\\multimodal-exploring\\.venv\\lib\\site-packages (from scikit-learn) (3.6.0)\n",
      "Requirement already satisfied: sympy>=1.13.3 in c:\\users\\nirva\\onedrive\\projects\\multimodal\\multimodal-exploring\\.venv\\lib\\site-packages (from torch) (1.14.0)\n",
      "Requirement already satisfied: networkx in c:\\users\\nirva\\onedrive\\projects\\multimodal\\multimodal-exploring\\.venv\\lib\\site-packages (from torch) (3.5)\n",
      "Requirement already satisfied: jinja2 in c:\\users\\nirva\\onedrive\\projects\\multimodal\\multimodal-exploring\\.venv\\lib\\site-packages (from torch) (3.1.6)\n",
      "Requirement already satisfied: pillow!=8.3.*,>=5.3.0 in c:\\users\\nirva\\onedrive\\projects\\multimodal\\multimodal-exploring\\.venv\\lib\\site-packages (from torchvision) (11.3.0)\n",
      "Requirement already satisfied: pyarrow>=21.0.0 in c:\\users\\nirva\\onedrive\\projects\\multimodal\\multimodal-exploring\\.venv\\lib\\site-packages (from datasets) (21.0.0)\n",
      "Requirement already satisfied: dill<0.4.1,>=0.3.0 in c:\\users\\nirva\\onedrive\\projects\\multimodal\\multimodal-exploring\\.venv\\lib\\site-packages (from datasets) (0.4.0)\n",
      "Requirement already satisfied: xxhash in c:\\users\\nirva\\onedrive\\projects\\multimodal\\multimodal-exploring\\.venv\\lib\\site-packages (from datasets) (3.5.0)\n",
      "Requirement already satisfied: multiprocess<0.70.17 in c:\\users\\nirva\\onedrive\\projects\\multimodal\\multimodal-exploring\\.venv\\lib\\site-packages (from datasets) (0.70.16)\n",
      "Requirement already satisfied: aiohttp!=4.0.0a0,!=4.0.0a1 in c:\\users\\nirva\\onedrive\\projects\\multimodal\\multimodal-exploring\\.venv\\lib\\site-packages (from fsspec[http]<=2025.9.0,>=2023.1.0->datasets) (3.12.15)\n",
      "Requirement already satisfied: python-dateutil>=2.8.2 in c:\\users\\nirva\\onedrive\\projects\\multimodal\\multimodal-exploring\\.venv\\lib\\site-packages (from pandas) (2.9.0.post0)\n",
      "Requirement already satisfied: pytz>=2020.1 in c:\\users\\nirva\\onedrive\\projects\\multimodal\\multimodal-exploring\\.venv\\lib\\site-packages (from pandas) (2025.2)\n",
      "Requirement already satisfied: tzdata>=2022.7 in c:\\users\\nirva\\onedrive\\projects\\multimodal\\multimodal-exploring\\.venv\\lib\\site-packages (from pandas) (2025.2)\n",
      "Collecting beautifulsoup4 (from gdown)\n",
      "  Downloading beautifulsoup4-4.13.5-py3-none-any.whl.metadata (3.8 kB)\n",
      "Requirement already satisfied: aiohappyeyeballs>=2.5.0 in c:\\users\\nirva\\onedrive\\projects\\multimodal\\multimodal-exploring\\.venv\\lib\\site-packages (from aiohttp!=4.0.0a0,!=4.0.0a1->fsspec[http]<=2025.9.0,>=2023.1.0->datasets) (2.6.1)\n",
      "Requirement already satisfied: aiosignal>=1.4.0 in c:\\users\\nirva\\onedrive\\projects\\multimodal\\multimodal-exploring\\.venv\\lib\\site-packages (from aiohttp!=4.0.0a0,!=4.0.0a1->fsspec[http]<=2025.9.0,>=2023.1.0->datasets) (1.4.0)\n",
      "Requirement already satisfied: attrs>=17.3.0 in c:\\users\\nirva\\onedrive\\projects\\multimodal\\multimodal-exploring\\.venv\\lib\\site-packages (from aiohttp!=4.0.0a0,!=4.0.0a1->fsspec[http]<=2025.9.0,>=2023.1.0->datasets) (25.3.0)\n",
      "Requirement already satisfied: frozenlist>=1.1.1 in c:\\users\\nirva\\onedrive\\projects\\multimodal\\multimodal-exploring\\.venv\\lib\\site-packages (from aiohttp!=4.0.0a0,!=4.0.0a1->fsspec[http]<=2025.9.0,>=2023.1.0->datasets) (1.7.0)\n",
      "Requirement already satisfied: multidict<7.0,>=4.5 in c:\\users\\nirva\\onedrive\\projects\\multimodal\\multimodal-exploring\\.venv\\lib\\site-packages (from aiohttp!=4.0.0a0,!=4.0.0a1->fsspec[http]<=2025.9.0,>=2023.1.0->datasets) (6.6.4)\n",
      "Requirement already satisfied: propcache>=0.2.0 in c:\\users\\nirva\\onedrive\\projects\\multimodal\\multimodal-exploring\\.venv\\lib\\site-packages (from aiohttp!=4.0.0a0,!=4.0.0a1->fsspec[http]<=2025.9.0,>=2023.1.0->datasets) (0.3.2)\n",
      "Requirement already satisfied: yarl<2.0,>=1.17.0 in c:\\users\\nirva\\onedrive\\projects\\multimodal\\multimodal-exploring\\.venv\\lib\\site-packages (from aiohttp!=4.0.0a0,!=4.0.0a1->fsspec[http]<=2025.9.0,>=2023.1.0->datasets) (1.20.1)\n",
      "Requirement already satisfied: idna>=2.0 in c:\\users\\nirva\\onedrive\\projects\\multimodal\\multimodal-exploring\\.venv\\lib\\site-packages (from yarl<2.0,>=1.17.0->aiohttp!=4.0.0a0,!=4.0.0a1->fsspec[http]<=2025.9.0,>=2023.1.0->datasets) (3.10)\n",
      "Requirement already satisfied: six>=1.5 in c:\\users\\nirva\\onedrive\\projects\\multimodal\\multimodal-exploring\\.venv\\lib\\site-packages (from python-dateutil>=2.8.2->pandas) (1.17.0)\n",
      "Requirement already satisfied: charset_normalizer<4,>=2 in c:\\users\\nirva\\onedrive\\projects\\multimodal\\multimodal-exploring\\.venv\\lib\\site-packages (from requests->transformers) (3.4.3)\n",
      "Requirement already satisfied: urllib3<3,>=1.21.1 in c:\\users\\nirva\\onedrive\\projects\\multimodal\\multimodal-exploring\\.venv\\lib\\site-packages (from requests->transformers) (2.5.0)\n",
      "Requirement already satisfied: certifi>=2017.4.17 in c:\\users\\nirva\\onedrive\\projects\\multimodal\\multimodal-exploring\\.venv\\lib\\site-packages (from requests->transformers) (2025.8.3)\n",
      "Requirement already satisfied: mpmath<1.4,>=1.1.0 in c:\\users\\nirva\\onedrive\\projects\\multimodal\\multimodal-exploring\\.venv\\lib\\site-packages (from sympy>=1.13.3->torch) (1.3.0)\n",
      "Requirement already satisfied: colorama in c:\\users\\nirva\\onedrive\\projects\\multimodal\\multimodal-exploring\\.venv\\lib\\site-packages (from tqdm>=4.27->transformers) (0.4.6)\n",
      "Collecting soupsieve>1.2 (from beautifulsoup4->gdown)\n",
      "  Downloading soupsieve-2.8-py3-none-any.whl.metadata (4.6 kB)\n",
      "Requirement already satisfied: MarkupSafe>=2.0 in c:\\users\\nirva\\onedrive\\projects\\multimodal\\multimodal-exploring\\.venv\\lib\\site-packages (from jinja2->torch) (3.0.2)\n",
      "Collecting PySocks!=1.5.7,>=1.5.6 (from requests[socks]->gdown)\n",
      "  Using cached PySocks-1.7.1-py3-none-any.whl.metadata (13 kB)\n",
      "Downloading gdown-5.2.0-py3-none-any.whl (18 kB)\n",
      "Downloading zipfile36-0.1.3-py3-none-any.whl (20 kB)\n",
      "Downloading beautifulsoup4-4.13.5-py3-none-any.whl (105 kB)\n",
      "Downloading soupsieve-2.8-py3-none-any.whl (36 kB)\n",
      "Using cached PySocks-1.7.1-py3-none-any.whl (16 kB)\n",
      "Installing collected packages: zipfile36, soupsieve, PySocks, beautifulsoup4, gdown\n",
      "\n",
      "   -------- ------------------------------- 1/5 [soupsieve]\n",
      "   ---------------- ----------------------- 2/5 [PySocks]\n",
      "   ------------------------ --------------- 3/5 [beautifulsoup4]\n",
      "   ------------------------ --------------- 3/5 [beautifulsoup4]\n",
      "   ------------------------ --------------- 3/5 [beautifulsoup4]\n",
      "   -------------------------------- ------- 4/5 [gdown]\n",
      "   -------------------------------- ------- 4/5 [gdown]\n",
      "   -------------------------------- ------- 4/5 [gdown]\n",
      "   ---------------------------------------- 5/5 [gdown]\n",
      "\n",
      "Successfully installed PySocks-1.7.1 beautifulsoup4-4.13.5 gdown-5.2.0 soupsieve-2.8 zipfile36-0.1.3\n"
     ]
    }
   ],
   "source": [
    "#Uncomment to install dependencies; I did this to avoid re-installing every time\n",
    "!pip install transformers timm scikit-learn torch torchvision datasets pandas gdown zipfile36"
   ]
  },
  {
   "cell_type": "code",
   "execution_count": 7,
   "id": "b5f7bc12",
   "metadata": {},
   "outputs": [
    {
     "name": "stderr",
     "output_type": "stream",
     "text": [
      "c:\\Users\\nirva\\OneDrive\\Projects\\multimodal\\multimodal-exploring\\.venv\\Lib\\site-packages\\tqdm\\auto.py:21: TqdmWarning: IProgress not found. Please update jupyter and ipywidgets. See https://ipywidgets.readthedocs.io/en/stable/user_install.html\n",
      "  from .autonotebook import tqdm as notebook_tqdm\n"
     ]
    }
   ],
   "source": [
    "import json\n",
    "import os\n",
    "import torch\n",
    "import torch.nn as nn\n",
    "import torchvision.transforms as transforms\n",
    "from sklearn.metrics import classification_report, accuracy_score\n",
    "from transformers import AutoModel, AutoTokenizer, get_scheduler\n",
    "from torch.utils.data import Dataset, DataLoader, RandomSampler, SequentialSampler\n",
    "from torch.optim import AdamW\n",
    "from tqdm.notebook import tqdm, trange\n",
    "from time import perf_counter\n",
    "from PIL import Image\n",
    "import pandas as pd"
   ]
  },
  {
   "cell_type": "markdown",
   "id": "3092bdec",
   "metadata": {},
   "source": [
    "Common configurations to be used throughout the notebook"
   ]
  },
  {
   "cell_type": "code",
   "execution_count": 8,
   "id": "deb43904",
   "metadata": {},
   "outputs": [
    {
     "name": "stdout",
     "output_type": "stream",
     "text": [
      "Using device: cpu\n"
     ]
    }
   ],
   "source": [
    "# Check if GPU is available\n",
    "\n",
    "device = torch.device(\"cuda\" if torch.cuda.is_available() else \"cpu\")\n",
    "print(f\"Using device: {device}\")"
   ]
  },
  {
   "cell_type": "code",
   "execution_count": 9,
   "id": "a0562474",
   "metadata": {},
   "outputs": [],
   "source": [
    "import numpy as np\n",
    "import random\n",
    "\n",
    "# Function to set random seed for reproducibility\n",
    "\n",
    "def set_seed(seed_val):\n",
    "\n",
    "    random.seed(seed_val)\n",
    "\n",
    "    np.random.seed(seed_val)\n",
    "\n",
    "    torch.manual_seed(seed_val)\n",
    "\n",
    "    torch.cuda.manual_seed_all(seed_val)"
   ]
  },
  {
   "cell_type": "code",
   "execution_count": 14,
   "id": "f8ac4949",
   "metadata": {},
   "outputs": [],
   "source": [
    "from PIL import Image\n",
    "import requests\n",
    "from io import BytesIO\n",
    "\n",
    "def display_image_from_url(image_url):\n",
    "    \n",
    "    \"\"\"\n",
    "\n",
    "    Fetches an image from a URL and displays it.\n",
    "\n",
    "    Args:\n",
    "        image_url (str): The URL of the image.\n",
    "\n",
    "    \"\"\"\n",
    "    try:\n",
    "\n",
    "        response = requests.get(image_url)\n",
    "        response.raise_for_status()  \n",
    "        img = Image.open(BytesIO(response.content))\n",
    "        img.show()\n",
    "\n",
    "    except requests.exceptions.RequestException as e:\n",
    "\n",
    "        print(f\"Error fetching image from URL: {e}\")\n",
    "\n",
    "    except IOError as e:\n",
    "\n",
    "        print(f\"Error opening or displaying image: {e}\")"
   ]
  },
  {
   "cell_type": "code",
   "execution_count": 17,
   "id": "232b9859",
   "metadata": {},
   "outputs": [
    {
     "name": "stdout",
     "output_type": "stream",
     "text": [
      "Random seed set to: 67\n"
     ]
    }
   ],
   "source": [
    "seed_val = 67 # 6 7 vs. 41\n",
    "\n",
    "set_seed(seed_val)\n",
    "\n",
    "if seed_val == 67:\n",
    "\n",
    "    # 67 - I feel so childish rn lol\n",
    "\n",
    "    display_image_from_url(\"https://encrypted-tbn0.gstatic.com/images?q=tbn:ANd9GcRD1tLi6s_qGP24DiHYjBiWGFkWcl-cMfeKcA&s\")\n",
    "\n",
    "print(f\"Random seed set to: {seed_val}\")"
   ]
  },
  {
   "cell_type": "markdown",
   "id": "60294e49",
   "metadata": {},
   "source": [
    "### Data loading & training parameters\n",
    "\n",
    "This part downloads the data which is going to be used for the rest of the notebook & it defines the paths to read data from, as well as training parameters we are going to be using for all three models."
   ]
  },
  {
   "cell_type": "code",
   "execution_count": 33,
   "id": "4bb3e959",
   "metadata": {},
   "outputs": [],
   "source": [
    "HOME_FOLDER = '' # Change this to your home folder if needed\n",
    "WEBVISION_DATA_FOLDER = HOME_FOLDER + 'webvision_data/'\n",
    "IMAGE_FOLDER = WEBVISION_DATA_FOLDER + 'images/'\n",
    "RESULTS_FOLDER = HOME_FOLDER + 'results/'\n",
    "TRAINED_MODELS_FOLDER = HOME_FOLDER + 'trained_models/'\n",
    "os.makedirs(RESULTS_FOLDER, exist_ok=True)"
   ]
  },
  {
   "cell_type": "code",
   "execution_count": 45,
   "id": "5befb47b",
   "metadata": {},
   "outputs": [
    {
     "ename": "FileURLRetrievalError",
     "evalue": "Failed to retrieve file url:\n\n\tCannot retrieve the public link of the file. You may need to change\n\tthe permission to 'Anyone with the link', or have had many accesses.\n\tCheck FAQ in https://github.com/wkentaro/gdown?tab=readme-ov-file#faq.\n\nYou may still be able to access the file from the browser:\n\n\thttps://drive.google.com/uc?id=1r4aTTbLuYgGrgpZLogUH9sQ33DBsbOfM\n\nbut Gdown can't. Please check connections and permissions.",
     "output_type": "error",
     "traceback": [
      "\u001b[31m---------------------------------------------------------------------------\u001b[39m",
      "\u001b[31mFileURLRetrievalError\u001b[39m                     Traceback (most recent call last)",
      "\u001b[36mFile \u001b[39m\u001b[32mc:\\Users\\nirva\\OneDrive\\Projects\\multimodal\\multimodal-exploring\\.venv\\Lib\\site-packages\\gdown\\download.py:267\u001b[39m, in \u001b[36mdownload\u001b[39m\u001b[34m(url, output, quiet, proxy, speed, use_cookies, verify, id, fuzzy, resume, format, user_agent, log_messages)\u001b[39m\n\u001b[32m    266\u001b[39m \u001b[38;5;28;01mtry\u001b[39;00m:\n\u001b[32m--> \u001b[39m\u001b[32m267\u001b[39m     url = \u001b[43mget_url_from_gdrive_confirmation\u001b[49m\u001b[43m(\u001b[49m\u001b[43mres\u001b[49m\u001b[43m.\u001b[49m\u001b[43mtext\u001b[49m\u001b[43m)\u001b[49m\n\u001b[32m    268\u001b[39m \u001b[38;5;28;01mexcept\u001b[39;00m FileURLRetrievalError \u001b[38;5;28;01mas\u001b[39;00m e:\n",
      "\u001b[36mFile \u001b[39m\u001b[32mc:\\Users\\nirva\\OneDrive\\Projects\\multimodal\\multimodal-exploring\\.venv\\Lib\\site-packages\\gdown\\download.py:55\u001b[39m, in \u001b[36mget_url_from_gdrive_confirmation\u001b[39m\u001b[34m(contents)\u001b[39m\n\u001b[32m     54\u001b[39m \u001b[38;5;28;01mif\u001b[39;00m \u001b[38;5;129;01mnot\u001b[39;00m url:\n\u001b[32m---> \u001b[39m\u001b[32m55\u001b[39m     \u001b[38;5;28;01mraise\u001b[39;00m FileURLRetrievalError(\n\u001b[32m     56\u001b[39m         \u001b[33m\"\u001b[39m\u001b[33mCannot retrieve the public link of the file. \u001b[39m\u001b[33m\"\u001b[39m\n\u001b[32m     57\u001b[39m         \u001b[33m\"\u001b[39m\u001b[33mYou may need to change the permission to \u001b[39m\u001b[33m\"\u001b[39m\n\u001b[32m     58\u001b[39m         \u001b[33m\"\u001b[39m\u001b[33m'\u001b[39m\u001b[33mAnyone with the link\u001b[39m\u001b[33m'\u001b[39m\u001b[33m, or have had many accesses. \u001b[39m\u001b[33m\"\u001b[39m\n\u001b[32m     59\u001b[39m         \u001b[33m\"\u001b[39m\u001b[33mCheck FAQ in https://github.com/wkentaro/gdown?tab=readme-ov-file#faq.\u001b[39m\u001b[33m\"\u001b[39m,\n\u001b[32m     60\u001b[39m     )\n\u001b[32m     61\u001b[39m \u001b[38;5;28;01mreturn\u001b[39;00m url\n",
      "\u001b[31mFileURLRetrievalError\u001b[39m: Cannot retrieve the public link of the file. You may need to change the permission to 'Anyone with the link', or have had many accesses. Check FAQ in https://github.com/wkentaro/gdown?tab=readme-ov-file#faq.",
      "\nDuring handling of the above exception, another exception occurred:\n",
      "\u001b[31mFileURLRetrievalError\u001b[39m                     Traceback (most recent call last)",
      "\u001b[36mCell\u001b[39m\u001b[36m \u001b[39m\u001b[32mIn[45]\u001b[39m\u001b[32m, line 8\u001b[39m\n\u001b[32m      5\u001b[39m url = \u001b[33m\"\u001b[39m\u001b[33mhttps://drive.google.com/uc?id=1r4aTTbLuYgGrgpZLogUH9sQ33DBsbOfM\u001b[39m\u001b[33m\"\u001b[39m\n\u001b[32m      6\u001b[39m output = os.path.join(WEBVISION_DATA_FOLDER, \u001b[33m\"\u001b[39m\u001b[33mdata.zip\u001b[39m\u001b[33m\"\u001b[39m)\n\u001b[32m----> \u001b[39m\u001b[32m8\u001b[39m \u001b[43mgdown\u001b[49m\u001b[43m.\u001b[49m\u001b[43mdownload\u001b[49m\u001b[43m(\u001b[49m\u001b[43murl\u001b[49m\u001b[43m,\u001b[49m\u001b[43m \u001b[49m\u001b[43moutput\u001b[49m\u001b[43m,\u001b[49m\u001b[43m \u001b[49m\u001b[43mquiet\u001b[49m\u001b[43m=\u001b[49m\u001b[38;5;28;43;01mFalse\u001b[39;49;00m\u001b[43m)\u001b[49m\n\u001b[32m     10\u001b[39m \u001b[38;5;28;01mwith\u001b[39;00m zipfile.ZipFile(output, \u001b[33m'\u001b[39m\u001b[33mr\u001b[39m\u001b[33m'\u001b[39m) \u001b[38;5;28;01mas\u001b[39;00m zip_ref:\n\u001b[32m     11\u001b[39m     zip_ref.extractall(WEBVISION_DATA_FOLDER)\n",
      "\u001b[36mFile \u001b[39m\u001b[32mc:\\Users\\nirva\\OneDrive\\Projects\\multimodal\\multimodal-exploring\\.venv\\Lib\\site-packages\\gdown\\download.py:278\u001b[39m, in \u001b[36mdownload\u001b[39m\u001b[34m(url, output, quiet, proxy, speed, use_cookies, verify, id, fuzzy, resume, format, user_agent, log_messages)\u001b[39m\n\u001b[32m    268\u001b[39m     \u001b[38;5;28;01mexcept\u001b[39;00m FileURLRetrievalError \u001b[38;5;28;01mas\u001b[39;00m e:\n\u001b[32m    269\u001b[39m         message = (\n\u001b[32m    270\u001b[39m             \u001b[33m\"\u001b[39m\u001b[33mFailed to retrieve file url:\u001b[39m\u001b[38;5;130;01m\\n\u001b[39;00m\u001b[38;5;130;01m\\n\u001b[39;00m\u001b[38;5;132;01m{}\u001b[39;00m\u001b[38;5;130;01m\\n\u001b[39;00m\u001b[38;5;130;01m\\n\u001b[39;00m\u001b[33m\"\u001b[39m\n\u001b[32m    271\u001b[39m             \u001b[33m\"\u001b[39m\u001b[33mYou may still be able to access the file from the browser:\u001b[39m\u001b[33m\"\u001b[39m\n\u001b[32m   (...)\u001b[39m\u001b[32m    276\u001b[39m             url_origin,\n\u001b[32m    277\u001b[39m         )\n\u001b[32m--> \u001b[39m\u001b[32m278\u001b[39m         \u001b[38;5;28;01mraise\u001b[39;00m FileURLRetrievalError(message)\n\u001b[32m    280\u001b[39m filename_from_url = \u001b[38;5;28;01mNone\u001b[39;00m\n\u001b[32m    281\u001b[39m last_modified_time = \u001b[38;5;28;01mNone\u001b[39;00m\n",
      "\u001b[31mFileURLRetrievalError\u001b[39m: Failed to retrieve file url:\n\n\tCannot retrieve the public link of the file. You may need to change\n\tthe permission to 'Anyone with the link', or have had many accesses.\n\tCheck FAQ in https://github.com/wkentaro/gdown?tab=readme-ov-file#faq.\n\nYou may still be able to access the file from the browser:\n\n\thttps://drive.google.com/uc?id=1r4aTTbLuYgGrgpZLogUH9sQ33DBsbOfM\n\nbut Gdown can't. Please check connections and permissions."
     ]
    }
   ],
   "source": [
    "import os, gdown\n",
    "\n",
    "os.makedirs(WEBVISION_DATA_FOLDER, exist_ok=True)\n",
    "\n",
    "url = \"https://drive.google.com/uc?id=1r4aTTbLuYgGrgpZLogUH9sQ33DBsbOfM\"\n",
    "output = os.path.join(WEBVISION_DATA_FOLDER, \"data.zip\")\n",
    "\n",
    "gdown.download(url, output, quiet=False)\n",
    "\n",
    "with zipfile.ZipFile(output, 'r') as zip_ref:\n",
    "    zip_ref.extractall(WEBVISION_DATA_FOLDER)\n"
   ]
  }
 ],
 "metadata": {
  "kernelspec": {
   "display_name": ".venv",
   "language": "python",
   "name": "python3"
  },
  "language_info": {
   "codemirror_mode": {
    "name": "ipython",
    "version": 3
   },
   "file_extension": ".py",
   "mimetype": "text/x-python",
   "name": "python",
   "nbconvert_exporter": "python",
   "pygments_lexer": "ipython3",
   "version": "3.11.9"
  }
 },
 "nbformat": 4,
 "nbformat_minor": 5
}
